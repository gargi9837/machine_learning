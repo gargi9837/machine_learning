{
 "cells": [
  {
   "cell_type": "code",
   "execution_count": 46,
   "id": "fa633119",
   "metadata": {
    "scrolled": false
   },
   "outputs": [],
   "source": [
    "import numpy as np\n",
    "#%matplotlib widget\n",
    "import matplotlib.pyplot as plt\n"
   ]
  },
  {
   "cell_type": "code",
   "execution_count": 26,
   "id": "383db0d1",
   "metadata": {},
   "outputs": [],
   "source": [
    "x_train=np.array([1.0,2.0])\n",
    "y_train=np.array([300.0,500.0])"
   ]
  },
  {
   "cell_type": "code",
   "execution_count": 24,
   "id": "f98c1e50",
   "metadata": {},
   "outputs": [],
   "source": [
    "def compute_cost(x,y,w,b):\n",
    " m=x.shape[0]\n",
    " cost_sum=0\n",
    " for i in range(m):\n",
    "     f_wb=w*x[i]+b\n",
    "     cost=(f_wb-y[i])**2\n",
    "     cost_sum=cost_sum+cost\n",
    "     total_cost=(1/(2*m))*cost_sum\n",
    " return total_cost    "
   ]
  },
  {
   "cell_type": "code",
   "execution_count": 48,
   "id": "b5eca758",
   "metadata": {},
   "outputs": [],
   "source": [
    "x_train = np.array([1.0, 1.7, 2.0, 2.5, 3.0, 3.2])\n",
    "y_train = np.array([250, 300, 480,  430,   630, 730,])"
   ]
  },
  {
   "cell_type": "code",
   "execution_count": null,
   "id": "977c4a8a",
   "metadata": {},
   "outputs": [],
   "source": []
  }
 ],
 "metadata": {
  "kernelspec": {
   "display_name": "Python 3 (ipykernel)",
   "language": "python",
   "name": "python3"
  },
  "language_info": {
   "codemirror_mode": {
    "name": "ipython",
    "version": 3
   },
   "file_extension": ".py",
   "mimetype": "text/x-python",
   "name": "python",
   "nbconvert_exporter": "python",
   "pygments_lexer": "ipython3",
   "version": "3.10.7"
  }
 },
 "nbformat": 4,
 "nbformat_minor": 5
}
